{
  "cells": [
    {
      "cell_type": "markdown",
      "metadata": {
        "id": "view-in-github",
        "colab_type": "text"
      },
      "source": [
        "<a href=\"https://colab.research.google.com/github/omtriguero/Artificial-Intelligence-Projects/blob/main/Final_project_COMP_605_001_Introduction_to_Artificial_Intelligence.ipynb\" target=\"_parent\"><img src=\"https://colab.research.google.com/assets/colab-badge.svg\" alt=\"Open In Colab\"/></a>"
      ]
    },
    {
      "cell_type": "markdown",
      "metadata": {
        "id": "qgnRUSfPrC8Y"
      },
      "source": [
        "**FINAL PROJECT-COMP-605-001 Introduction to Artificial Intelligence.**\n",
        "\n",
        "**X-Ray AI Analysis System**\n",
        "\n",
        "  *Group members:*\n",
        "*   Oscar Mauricio Trigueros\n",
        "\n",
        "\n",
        "\n"
      ]
    },
    {
      "cell_type": "markdown",
      "metadata": {
        "id": "zJSh6xRTwllL"
      },
      "source": [
        "**Step 1: Select a real-world dataset**\n",
        "\n",
        ">•Find a one of the interesting datasetes:\n",
        "\n",
        "Chest x ray Database : https://www.kaggle.com/code/mohamedgobara/chest-x-ray-classification-highest-accuracy"
      ]
    },
    {
      "cell_type": "markdown",
      "metadata": {
        "id": "97SMLkmtw_Pw"
      },
      "source": [
        "**Step 2:load the Libraries.**\n"
      ]
    },
    {
      "cell_type": "code",
      "execution_count": null,
      "metadata": {
        "id": "ZOmJ-KjUNKX1"
      },
      "outputs": [],
      "source": [
        "import cv2\n",
        "import numpy as np\n",
        "import os\n",
        "import zipfile\n",
        "from sklearn.model_selection import train_test_split\n",
        "from sklearn.metrics import classification_report\n",
        "from tensorflow.keras.models import Sequential\n",
        "from tensorflow.keras.layers import Conv2D, MaxPooling2D, Flatten, Dense, Dropout"
      ]
    },
    {
      "cell_type": "markdown",
      "metadata": {
        "id": "crR6-lxn7cfl"
      },
      "source": [
        "**Step 3: Define a function to extract test and train images by folders.**\n"
      ]
    },
    {
      "cell_type": "code",
      "execution_count": null,
      "metadata": {
        "id": "lSCVmYjqNKyr"
      },
      "outputs": [],
      "source": [
        "# Function to load images from folder\n",
        "def load_images_from_folder(folder_path):\n",
        "    images = []\n",
        "    labels = []\n",
        "\n",
        "    # Define label mappings\n",
        "    label_mapping = {'NORMAL': 0, 'PNEUMONIA': 1}\n",
        "\n",
        "    # Check if the folder exists\n",
        "    if not os.path.exists(folder_path):\n",
        "        raise FileNotFoundError(f\"Folder '{folder_path}' not found.\")\n",
        "\n",
        "    # Loop through each subfolder (NORMAL and PNEUMONIA)\n",
        "    for subfolder in ['NORMAL', 'PNEUMONIA']:\n",
        "        subfolder_path = os.path.join(folder_path, subfolder)\n",
        "\n",
        "        # Check if the subfolder exists\n",
        "        if not os.path.exists(subfolder_path):\n",
        "            print(f\"Subfolder '{subfolder}' not found in '{folder_path}'. Skipping...\")\n",
        "            continue\n",
        "\n",
        "        label = label_mapping[subfolder]\n",
        "\n",
        "        # Loop through each image file in the subfolder\n",
        "        for filename in os.listdir(subfolder_path):\n",
        "            img_path = os.path.join(subfolder_path, filename)\n",
        "\n",
        "            # Read the image using OpenCV\n",
        "            img = cv2.imread(img_path)\n",
        "\n",
        "            # If the image is not None, add it to the list and assign the label\n",
        "            if img is not None:\n",
        "                images.append(img)\n",
        "                labels.append(label)\n",
        "\n",
        "    # Check if images and labels are empty\n",
        "    if not images:\n",
        "        raise ValueError(f\"No images found in '{folder_path}'\")\n",
        "\n",
        "    if not labels:\n",
        "        raise ValueError(f\"No labels found in '{folder_path}'\")\n",
        "\n",
        "    return images, labels"
      ]
    },
    {
      "cell_type": "markdown",
      "metadata": {
        "id": "FvtwMi8D8A25"
      },
      "source": [
        "**Step 4: Define variables for image extraction.**"
      ]
    },
    {
      "cell_type": "code",
      "execution_count": null,
      "metadata": {
        "id": "NMAaJ4MPNLDg"
      },
      "outputs": [],
      "source": [
        "# Path to dataset ZIP file in \"Records\"\n",
        "zip_file_path = '/content/chest_xray_a.zip'  # Replace with the actual path in \"Records\"\n",
        "\n",
        "# Extraction directory\n",
        "extract_dir = '/content/chest_xray_a/'\n",
        "\n",
        "# Create extraction directory if it doesn't exist\n",
        "if not os.path.exists(extract_dir):\n",
        "    os.makedirs(extract_dir)\n",
        "\n",
        "# Extract the ZIP file\n",
        "with zipfile.ZipFile(zip_file_path, 'r') as zip_ref:\n",
        "    zip_ref.extractall(extract_dir)\n",
        "\n",
        "# Path to train and test folders\n",
        "train_folder_path = os.path.join(extract_dir, 'chest_xray_a', 'train')\n",
        "test_folder_path = os.path.join(extract_dir, 'chest_xray_a', 'test')\n",
        "\n",
        "# Load images and labels from train and test folders\n",
        "train_images, train_labels = load_images_from_folder(train_folder_path)\n",
        "test_images, test_labels = load_images_from_folder(test_folder_path)\n"
      ]
    },
    {
      "cell_type": "markdown",
      "metadata": {
        "id": "rJF89kAA9D55"
      },
      "source": [
        ".**Step 5: Preprocess images and resize them to a fixed size.**"
      ]
    },
    {
      "cell_type": "code",
      "execution_count": null,
      "metadata": {
        "id": "KahPHE_MNLRI"
      },
      "outputs": [],
      "source": [
        "\n",
        "def preprocess_and_resize_images(images):\n",
        "    processed_images = [cv2.resize(img, (128, 128)) for img in images]\n",
        "    processed_images = np.array(processed_images) / 255.0\n",
        "    return processed_images\n",
        "\n",
        "# Preprocess and resize train and test images\n",
        "train_images = preprocess_and_resize_images(train_images)\n",
        "test_images = preprocess_and_resize_images(test_images)\n",
        "\n",
        "# Convert lists to NumPy arrays\n",
        "train_labels = np.array(train_labels)\n",
        "test_labels = np.array(test_labels)\n"
      ]
    },
    {
      "cell_type": "markdown",
      "metadata": {
        "id": "7wymBRfu9lJg"
      },
      "source": [
        ".**Step 6:  Check if images and labels are loaded properly and split the data**"
      ]
    },
    {
      "cell_type": "code",
      "execution_count": null,
      "metadata": {
        "colab": {
          "base_uri": "https://localhost:8080/"
        },
        "id": "RhDDh0QkNLcY",
        "outputId": "13610dd5-1396-4053-e525-a0837e095f6e"
      },
      "outputs": [
        {
          "output_type": "stream",
          "name": "stdout",
          "text": [
            "Number of train images: 2310\n",
            "Number of train labels: 2310\n",
            "Number of test images: 392\n",
            "Number of test labels: 392\n"
          ]
        }
      ],
      "source": [
        "\n",
        "print(f\"Number of train images: {len(train_images)}\")\n",
        "print(f\"Number of train labels: {len(train_labels)}\")\n",
        "print(f\"Number of test images: {len(test_images)}\")\n",
        "print(f\"Number of test labels: {len(test_labels)}\")\n",
        "\n",
        "# Split dataset into training and validation sets\n",
        "X_train, X_val, y_train, y_val = train_test_split(train_images, train_labels,\n",
        "                                                  test_size=0.2,\n",
        "                                                  random_state=42)\n"
      ]
    },
    {
      "cell_type": "markdown",
      "metadata": {
        "id": "IB1sO7cW-J3p"
      },
      "source": [
        "**Step 7: Defining the CNN model**"
      ]
    },
    {
      "cell_type": "code",
      "execution_count": null,
      "metadata": {
        "id": "V3UjiVHXNLks"
      },
      "outputs": [],
      "source": [
        "# Create the CNN model\n",
        "def create_cnn_model(input_shape):\n",
        "    model = Sequential([\n",
        "        Conv2D(32, (3, 3), activation='relu', input_shape=input_shape),\n",
        "        MaxPooling2D((2, 2)),\n",
        "        Conv2D(64, (3, 3), activation='relu'),\n",
        "        MaxPooling2D((2, 2)),\n",
        "        Conv2D(128, (3, 3), activation='relu'),\n",
        "        MaxPooling2D((2, 2)),\n",
        "        Flatten(),\n",
        "        Dropout(0.5),\n",
        "        Dense(128, activation='relu'),\n",
        "        Dropout(0.5),\n",
        "        Dense(1, activation='sigmoid')  # Sigmoid activation for binary classification\n",
        "    ])\n",
        "    return model"
      ]
    },
    {
      "cell_type": "markdown",
      "metadata": {
        "id": "GG_7jI3u-qwz"
      },
      "source": [
        "**Step 7: Evaluate the model.**\n",
        "\n"
      ]
    },
    {
      "cell_type": "code",
      "execution_count": null,
      "metadata": {
        "colab": {
          "base_uri": "https://localhost:8080/"
        },
        "id": "x-LLjyPXNLot",
        "outputId": "64adb405-b880-417b-dcb2-7393701b89e7"
      },
      "outputs": [
        {
          "output_type": "stream",
          "name": "stdout",
          "text": [
            "Epoch 1/7\n",
            "58/58 [==============================] - 63s 1s/step - loss: 0.3858 - accuracy: 0.8620 - val_loss: 0.2392 - val_accuracy: 0.8550\n",
            "Epoch 2/7\n",
            "58/58 [==============================] - 61s 1s/step - loss: 0.2246 - accuracy: 0.9069 - val_loss: 0.1573 - val_accuracy: 0.9372\n",
            "Epoch 3/7\n",
            "58/58 [==============================] - 59s 1s/step - loss: 0.1745 - accuracy: 0.9313 - val_loss: 0.1189 - val_accuracy: 0.9632\n",
            "Epoch 4/7\n",
            "58/58 [==============================] - 61s 1s/step - loss: 0.1311 - accuracy: 0.9459 - val_loss: 0.1213 - val_accuracy: 0.9632\n",
            "Epoch 5/7\n",
            "58/58 [==============================] - 57s 990ms/step - loss: 0.1190 - accuracy: 0.9529 - val_loss: 0.1015 - val_accuracy: 0.9740\n",
            "Epoch 6/7\n",
            "58/58 [==============================] - 60s 1s/step - loss: 0.1163 - accuracy: 0.9545 - val_loss: 0.1289 - val_accuracy: 0.9654\n",
            "Epoch 7/7\n",
            "58/58 [==============================] - 59s 1s/step - loss: 0.0996 - accuracy: 0.9610 - val_loss: 0.1005 - val_accuracy: 0.9740\n",
            "13/13 [==============================] - 3s 255ms/step - loss: 0.5689 - accuracy: 0.8495\n",
            "Test Loss: 0.5689267516136169\n",
            "Test Accuracy: 0.8494898080825806\n"
          ]
        }
      ],
      "source": [
        "# Create the CNN model\n",
        "input_shape = (128, 128, 3)  # Input shape based on image size and channels\n",
        "model = create_cnn_model(input_shape)\n",
        "\n",
        "# Compile the model\n",
        "model.compile(optimizer='adam', loss='binary_crossentropy', metrics=['accuracy'])\n",
        "\n",
        "# Train the model\n",
        "history = model.fit(X_train, y_train, epochs=7, batch_size=32, validation_data=(X_val, y_val))\n",
        "\n",
        "# Evaluate the model\n",
        "loss, accuracy = model.evaluate(test_images, test_labels)\n",
        "print(f\"Test Loss: {loss}\")\n",
        "print(f\"Test Accuracy: {accuracy}\")\n"
      ]
    },
    {
      "cell_type": "code",
      "execution_count": null,
      "metadata": {
        "colab": {
          "base_uri": "https://localhost:8080/"
        },
        "id": "JbqIWkHlNLtK",
        "outputId": "7dbeb17d-9f27-454f-f622-9b10bac6bacd"
      },
      "outputs": [
        {
          "output_type": "stream",
          "name": "stdout",
          "text": [
            "13/13 [==============================] - 4s 244ms/step\n",
            "Predicted Labels: [1 1 1 1 1 1 1 1 1 1 1 1 1 0 1 1 0 1 1 1 0 1 1 0 1 1 0 0 1 1 0 1 1 1 0 0 0\n",
            " 1 1 1 1 1 1 1 1 0 1 1 1 1 1 1 1 1 1 1 1 1 0 1 0 0 0 0 0 1 1 1 0 1 0 1 1 1\n",
            " 0 0 1 1 1 1 1 0 1 1 0 1 1 1 0 1 1 1 0 0 0 1 1 1 1 0 1 1 1 1 1 1 1 1 1 1 1\n",
            " 1 1 1 1 1 1 1 1 1 1 1 1 1 1 1 1 1 1 1 1 1 1 1 1 1 1 1 1 1 1 1 1 1 1 1 1 1\n",
            " 1 1 1 1 1 1 1 1 1 1 1 1 1 1 1 1 1 1 1 1 1 1 1 1 1 1 1 1 1 1 1 1 1 1 1 1 1\n",
            " 1 1 1 1 1 1 1 1 1 1 1 1 1 1 1 1 1 1 1 1 1 1 1 1 1 1 1 1 1 1 1 1 1 1 1 1 1\n",
            " 1 1 1 1 1 1 1 1 1 1 1 1 1 1 1 1 1 1 1 1 1 1 1 1 1 1 1 1 1 1 1 1 1 1 1 1 1\n",
            " 1 1 1 1 1 1 1 1 1 1 1 1 1 1 1 1 1 1 1 1 1 1 1 1 1 1 1 1 1 1 1 0 1 1 1 1 1\n",
            " 1 1 1 1 1 1 1 1 1 1 1 1 1 1 1 1 1 1 1 1 1 1 1 1 1 1 1 1 1 1 1 1 1 1 1 1 1\n",
            " 1 1 1 1 1 1 1 1 1 1 1 1 1 1 1 1 1 1 1 1 1 1 1 1 1 1 1 1 1 1 1 1 1 1 1 1 1\n",
            " 1 1 1 1 1 1 1 1 1 1 1 1 1 1 1 1 1 1 1 1 1 1]\n",
            "True Labels: [0 0 0 0 0 0 0 0 0 0 0 0 0 0 0 0 0 0 0 0 0 0 0 0 0 0 0 0 0 0 0 0 0 0 0 0 0\n",
            " 0 0 0 0 0 0 0 0 0 0 0 0 0 0 0 0 0 0 0 0 0 0 0 0 0 0 0 0 0 0 0 0 0 0 0 0 0\n",
            " 0 0 0 0 0 0 0 0 0 0 0 0 0 0 0 0 0 0 0 0 0 0 0 0 0 0 0 0 0 1 1 1 1 1 1 1 1\n",
            " 1 1 1 1 1 1 1 1 1 1 1 1 1 1 1 1 1 1 1 1 1 1 1 1 1 1 1 1 1 1 1 1 1 1 1 1 1\n",
            " 1 1 1 1 1 1 1 1 1 1 1 1 1 1 1 1 1 1 1 1 1 1 1 1 1 1 1 1 1 1 1 1 1 1 1 1 1\n",
            " 1 1 1 1 1 1 1 1 1 1 1 1 1 1 1 1 1 1 1 1 1 1 1 1 1 1 1 1 1 1 1 1 1 1 1 1 1\n",
            " 1 1 1 1 1 1 1 1 1 1 1 1 1 1 1 1 1 1 1 1 1 1 1 1 1 1 1 1 1 1 1 1 1 1 1 1 1\n",
            " 1 1 1 1 1 1 1 1 1 1 1 1 1 1 1 1 1 1 1 1 1 1 1 1 1 1 1 1 1 1 1 1 1 1 1 1 1\n",
            " 1 1 1 1 1 1 1 1 1 1 1 1 1 1 1 1 1 1 1 1 1 1 1 1 1 1 1 1 1 1 1 1 1 1 1 1 1\n",
            " 1 1 1 1 1 1 1 1 1 1 1 1 1 1 1 1 1 1 1 1 1 1 1 1 1 1 1 1 1 1 1 1 1 1 1 1 1\n",
            " 1 1 1 1 1 1 1 1 1 1 1 1 1 1 1 1 1 1 1 1 1 1]\n",
            "Classification Report:\n",
            "              precision    recall  f1-score   support\n",
            "\n",
            "           0       0.97      0.27      0.42       103\n",
            "           1       0.79      1.00      0.88       289\n",
            "\n",
            "    accuracy                           0.81       392\n",
            "   macro avg       0.88      0.63      0.65       392\n",
            "weighted avg       0.84      0.81      0.76       392\n",
            "\n"
          ]
        }
      ],
      "source": [
        "# Predictions\n",
        "y_pred_probs = model.predict(test_images)\n",
        "y_pred = (y_pred_probs > 0.5).astype(int).flatten()  # Convert probabilities to binary predictions\n",
        "\n",
        "# Display predicted and true labels\n",
        "print(\"Predicted Labels:\", y_pred)\n",
        "print(\"True Labels:\", test_labels)\n",
        "\n",
        "# Classification Report\n",
        "print(\"Classification Report:\")\n",
        "print(classification_report(test_labels, y_pred))\n",
        "\n"
      ]
    },
    {
      "cell_type": "markdown",
      "metadata": {
        "id": "uLIcsq1BwRKX"
      },
      "source": [
        "**Sources:**\n",
        "\n",
        "\n",
        "*   https://www.kaggle.com/code/aviadl/starter-chest-x-ray-images-pneumonia-d498de7c-3\n",
        "*   https://www.kaggle.com/code/aviadl/\n",
        "\n",
        "*   https://www.kaggle.com/code/kylewillemse345/starter-chest-x-ray-images-pneumonia-9ad0b8f3-9\n",
        "*   https://www.kaggle.com/code/phantrngnhn/chest-x-ray-pneumonia-diagnosis-with-cnn\n",
        "\n",
        "\n",
        "\n",
        "\n",
        "\n",
        "\n",
        "\n"
      ]
    }
  ],
  "metadata": {
    "colab": {
      "provenance": [],
      "include_colab_link": true
    },
    "kernelspec": {
      "display_name": "Python 3",
      "name": "python3"
    },
    "language_info": {
      "name": "python"
    }
  },
  "nbformat": 4,
  "nbformat_minor": 0
}